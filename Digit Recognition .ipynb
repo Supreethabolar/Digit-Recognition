{
 "cells": [
  {
   "cell_type": "code",
   "execution_count": null,
   "id": "fb90f263",
   "metadata": {},
   "outputs": [],
   "source": [
    "#import required packages\n",
    "from keras.datasets import mnist\n",
    "from keras.models import Sequential\n",
    "from keras.layers import Dense\n",
    "from keras.layers import Dropout\n",
    "from keras.layers import Flatten\n",
    "from keras.layers.convolutional import Conv2D\n",
    "from keras.layers.convolutional import MaxPooling2D\n",
    "from keras.utils import np_utils"
   ]
  },
  {
   "cell_type": "code",
   "execution_count": null,
   "id": "fa7281d6",
   "metadata": {},
   "outputs": [],
   "source": [
    "# load data\n",
    "(X_train, y_train), (X_test, y_test) = mnist.load_data()"
   ]
  },
  {
   "cell_type": "code",
   "execution_count": null,
   "id": "297a48c2",
   "metadata": {},
   "outputs": [],
   "source": [
    "#let us visualize the data.\n",
    "\n",
    "import matplotlib.pyplot as plt\n",
    "num = 20\n",
    "plt.imshow(X_train[num])\n",
    "X_train[num].shape"
   ]
  },
  {
   "cell_type": "code",
   "execution_count": null,
   "id": "7d86471a",
   "metadata": {},
   "outputs": [],
   "source": [
    "# we can see the above output as 7 that will be present in the y_train[15]\n",
    "print(y_train[num])"
   ]
  },
  {
   "cell_type": "code",
   "execution_count": null,
   "id": "b66752ca",
   "metadata": {},
   "outputs": [],
   "source": [
    "# same for the test images it will be used for the validation\n",
    "plt.imshow(X_test[num], cmap=plt.get_cmap('gray'))\n",
    "print(y_test[num])\n",
    "#so we have the input image data with the corresponding output data"
   ]
  },
  {
   "cell_type": "code",
   "execution_count": null,
   "id": "4e69cece",
   "metadata": {},
   "outputs": [],
   "source": [
    "X_train = X_train.reshape(X_train.shape[0], 28, 28, 1).astype('float32')\n",
    "X_test = X_test.reshape(X_test.shape[0], 28, 28, 1).astype('float32')\n",
    "#reshaping every images to 28x28x1 width, height= 28, 28 then 1 represent 1 channel if it is 3 then it will a color image rgb"
   ]
  },
  {
   "cell_type": "code",
   "execution_count": null,
   "id": "d5ed2d17",
   "metadata": {},
   "outputs": [],
   "source": [
    "def visualize_input(img, ax):\n",
    "    ax.imshow(img, cmap='gray')\n",
    "    width, height = img.shape\n",
    "    thresh = img.max()/2.5\n",
    "    for x in range(width):\n",
    "        for y in range(height):\n",
    "            ax.annotate(str(round(img[x][y],2)), xy=(y,x),\n",
    "                        horizontalalignment='center',\n",
    "                        verticalalignment='center',\n",
    "                        color='white' if img[x][y]<thresh else 'black')\n",
    "\n",
    "fig = plt.figure(figsize = (12,12)) \n",
    "ax = fig.add_subplot(111)\n",
    "visualize_input(X_train[1].reshape(28,28), ax)\n",
    "#now you can see the images with pixel ranging from 0 to 1 since we divided by 255.0"
   ]
  },
  {
   "cell_type": "code",
   "execution_count": null,
   "id": "f81a2b39",
   "metadata": {},
   "outputs": [],
   "source": [
    "#let us check\n",
    "X_train[0]"
   ]
  },
  {
   "cell_type": "code",
   "execution_count": null,
   "id": "53620139",
   "metadata": {},
   "outputs": [],
   "source": [
    "print('shape i.e the dimension of the images', X_train[0].shape)\n",
    "# 28 rows 28 columns in the data in range of pixel value 0-255"
   ]
  },
  {
   "cell_type": "code",
   "execution_count": null,
   "id": "2376bfc8",
   "metadata": {},
   "outputs": [],
   "source": [
    "# it will be easily enhance the prediction through normalization by reducing the large values\n",
    "\n",
    "X_train = X_train / 255\n",
    "X_test = X_test / 255"
   ]
  },
  {
   "cell_type": "code",
   "execution_count": null,
   "id": "e72b1f2a",
   "metadata": {},
   "outputs": [],
   "source": [
    "print(X_train[0])\n",
    "# now it will be in range of 0-255"
   ]
  },
  {
   "cell_type": "code",
   "execution_count": null,
   "id": "e7f65a26",
   "metadata": {},
   "outputs": [],
   "source": [
    "#let us do one hot encoding\n",
    "y_train = np_utils.to_categorical(y_train)\n",
    "y_test = np_utils.to_categorical(y_test)"
   ]
  },
  {
   "cell_type": "code",
   "execution_count": null,
   "id": "38af8a3e",
   "metadata": {},
   "outputs": [],
   "source": [
    "#now \n",
    "\n",
    "print(y_train[15])\n",
    "# 1 in the 7th index"
   ]
  },
  {
   "cell_type": "code",
   "execution_count": null,
   "id": "d0339b2c",
   "metadata": {},
   "outputs": [],
   "source": [
    "#total number of classes will be 10 i.e digit 0-9\n",
    "num_classes = 10"
   ]
  },
  {
   "cell_type": "code",
   "execution_count": null,
   "id": "f25753a0",
   "metadata": {},
   "outputs": [],
   "source": [
    "plt.imshow(X_train[0][:,:,0], cmap=plt.get_cmap('gray'))"
   ]
  },
  {
   "cell_type": "code",
   "execution_count": null,
   "id": "2d665c9b",
   "metadata": {},
   "outputs": [],
   "source": [
    "# defining CNN Model\n",
    "def cnn():\n",
    "    model = Sequential()\n",
    "    model.add(Conv2D(32, (5, 5), input_shape=(28, 28, 1), activation='relu'))\n",
    "    model.add(MaxPooling2D())\n",
    "    model.add(Dropout(0.2))\n",
    "    model.add(Flatten())\n",
    "    model.add(Dense(128, activation='relu'))\n",
    "    model.add(Dense(num_classes, activation='softmax'))\n",
    "    # Compile model\n",
    "    model.compile(loss='categorical_crossentropy', optimizer='adam', metrics=['accuracy'])\n",
    "    return model"
   ]
  },
  {
   "cell_type": "code",
   "execution_count": null,
   "id": "3dbe012d",
   "metadata": {},
   "outputs": [],
   "source": [
    "# build the model\n",
    "model = cnn()\n",
    "# Fit the model\n",
    "model.fit(X_train, y_train, validation_data=(X_test, y_test), epochs=10, batch_size=200, verbose=2)"
   ]
  },
  {
   "cell_type": "code",
   "execution_count": null,
   "id": "0768d2a9",
   "metadata": {},
   "outputs": [],
   "source": [
    "scores = model.evaluate(X_test, y_test, verbose=0)\n",
    "scores"
   ]
  },
  {
   "cell_type": "code",
   "execution_count": null,
   "id": "509e221c",
   "metadata": {},
   "outputs": [],
   "source": [
    "model.predict(X_test[:1])"
   ]
  },
  {
   "cell_type": "code",
   "execution_count": null,
   "id": "9c2a179c",
   "metadata": {},
   "outputs": [],
   "source": [
    "def expected_result(y_data):\n",
    "  for i in range(10): \n",
    "    if(y_data[i]):\n",
    "      print(i)\n",
    "      break"
   ]
  },
  {
   "cell_type": "code",
   "execution_count": null,
   "id": "77a18000",
   "metadata": {},
   "outputs": [],
   "source": [
    "def predicted_result(pred_Xtrain, index):\n",
    "  ans = pred_Xtrain[index].argsort()[-8:][::-1]  #sorting in descending\n",
    "  print(ans[0])"
   ]
  },
  {
   "cell_type": "code",
   "execution_count": null,
   "id": "d5a69bc4",
   "metadata": {},
   "outputs": [],
   "source": [
    "pred_Xtest = model.predict(X_test)"
   ]
  },
  {
   "cell_type": "code",
   "execution_count": null,
   "id": "99cf1f52",
   "metadata": {},
   "outputs": [],
   "source": [
    "index = 20\n",
    "predicted_result(pred_Xtest, index)"
   ]
  },
  {
   "cell_type": "code",
   "execution_count": null,
   "id": "3ba9d173",
   "metadata": {},
   "outputs": [],
   "source": [
    "expected_result(y_test[index])"
   ]
  },
  {
   "cell_type": "code",
   "execution_count": null,
   "id": "760287bb",
   "metadata": {},
   "outputs": [],
   "source": [
    "model.save('/content/drive/My Drive/colab_data/digitrecognition.h5')\n",
    "#save the model in the drive and download it for the deployment"
   ]
  },
  {
   "cell_type": "code",
   "execution_count": null,
   "id": "62a70dbc",
   "metadata": {},
   "outputs": [],
   "source": [
    "test1 = X_test[0]"
   ]
  },
  {
   "cell_type": "code",
   "execution_count": null,
   "id": "7118e97c",
   "metadata": {},
   "outputs": [],
   "source": [
    "test1.shape"
   ]
  },
  {
   "cell_type": "code",
   "execution_count": null,
   "id": "380ae7d0",
   "metadata": {},
   "outputs": [],
   "source": [
    "X_test.shape"
   ]
  },
  {
   "cell_type": "code",
   "execution_count": null,
   "id": "b8152a4a",
   "metadata": {},
   "outputs": [],
   "source": [
    "test1 = test1.reshape(1, 28, 28, 1).astype('float32')\n",
    "test1.shape"
   ]
  },
  {
   "cell_type": "code",
   "execution_count": null,
   "id": "1e0d216f",
   "metadata": {},
   "outputs": [],
   "source": [
    "model.predict(test1)"
   ]
  },
  {
   "cell_type": "code",
   "execution_count": null,
   "id": "e9ffde83",
   "metadata": {},
   "outputs": [],
   "source": [
    "type(test1)"
   ]
  },
  {
   "cell_type": "code",
   "execution_count": null,
   "id": "13ad62ca",
   "metadata": {},
   "outputs": [],
   "source": [
    "for i in range(0, 10):\n",
    "  plt.imshow(X_train[100][:, :, 0])"
   ]
  },
  {
   "cell_type": "code",
   "execution_count": null,
   "id": "309c4393",
   "metadata": {},
   "outputs": [],
   "source": [
    "from tkinter import *\n",
    "import tkinter.font as tkFont\n",
    "import win32gui\n",
    "from PIL import ImageGrab, Image\n",
    "import numpy as np\n",
    "\n",
    "from keras.models import load_model\n",
    "\n",
    "'''\n",
    "Let us deploy the model in the python application using tkinter\n",
    "'''\n",
    "class application(Frame):\n",
    "    def __init__(self,master):\n",
    "        super().__init__(master)\n",
    "        self.fontStyle = tkFont.Font(family=\"Lucida Grande\", size=20)\n",
    "        self.master=master\n",
    "        self.pack()\n",
    "        self.createWidget()\n",
    "\n",
    "    def createWidget(self):\n",
    "        self.canvas = Canvas(self,width=284,height=284,bg='black')\n",
    "        self.canvas.pack(expand=YES, fill=BOTH)\n",
    "        self.canvas.bind('<B1-Motion>',self.activate_paint)\n",
    "\n",
    "    def activate_paint(self, event):\n",
    "        global lastx, lasty\n",
    "        self.canvas.bind('<B1-Motion>', self.paint)\n",
    "        lastx, lasty = event.x, event.y\n",
    "\n",
    "    def paint(self,event):\n",
    "        global lastx, lasty\n",
    "        x, y = event.x, event.y\n",
    "        self.canvas.create_line((lastx, lasty, x, y), width=12, fill='white')\n",
    "\n",
    "        lastx, lasty = x, y\n",
    "\n",
    "    def clearCanvas(self):\n",
    "        self.canvas.delete(\"all\")\n",
    "        answer.configure(text='Answer Goes Here', font=self.fontStyle)\n",
    "        self.canvas.bind('<B1-Motion>',self.activate_paint)\n",
    "\n",
    "    def predicted_result(self, data):\n",
    "        ans = data.argsort()[-8:][::-1]  #sorting in descending\n",
    "        return ans\n",
    "\n",
    "\n",
    "    def predictDigit(self):\n",
    "        HWND = self.canvas.winfo_id()  # get the handle of the canvas\n",
    "        rect = win32gui.GetWindowRect(HWND)  # get the coordinate of the canvas\n",
    "        im = ImageGrab.grab(rect) # get image of the current location\n",
    "        im.save('file.png')\n",
    "\n",
    "        img = Image.open('file.png').convert('L')\n",
    "        img = img.resize((28,28), Image.ANTIALIAS)\n",
    "        img.save('resized.png')\n",
    "\n",
    "        #after resizing the image data\n",
    "        #convert to np array\n",
    "\n",
    "        data = np.array(img)\n",
    "        data = data/255.0 # for range b/w 0-1\n",
    "        data = data.reshape(1, 28, 28, 1).astype('float32')\n",
    "\n",
    "        #import the model\n",
    "        model = load_model('./digitrecognition.h5')\n",
    "        result = model.predict(data)\n",
    "        ans = self.predicted_result(result)\n",
    "        \n",
    "        answer.configure(text='Predicted Digit: '+str(ans[0][-1]), font=self.fontStyle)\n",
    "\n",
    "        \n",
    "if __name__ == '__main__':\n",
    "    root = Tk()\n",
    "    root.geometry('500x400')\n",
    "    \n",
    "    \n",
    "    app=application(root)\n",
    "    # let us create button to clear the drawn items and predict the value\n",
    "\n",
    "    clear = Button(root, text='Clear', command=app.clearCanvas)\n",
    "    clear.pack()\n",
    "\n",
    "    predict = Button(root, text='Predict', command=app.predictDigit)\n",
    "    predict.pack()\n",
    "\n",
    "    answer = Label(root, text=\"Answer Goes Here\", font=app.fontStyle)\n",
    "    answer.pack()\n",
    "\n",
    "    root.title('Draw a Digit')\n",
    "    root.mainloop()\n",
    "\n",
    "\n",
    "    #let us run and see"
   ]
  },
  {
   "cell_type": "code",
   "execution_count": null,
   "id": "942b2a7f",
   "metadata": {},
   "outputs": [],
   "source": []
  }
 ],
 "metadata": {
  "kernelspec": {
   "display_name": "Python 3 (ipykernel)",
   "language": "python",
   "name": "python3"
  },
  "language_info": {
   "codemirror_mode": {
    "name": "ipython",
    "version": 3
   },
   "file_extension": ".py",
   "mimetype": "text/x-python",
   "name": "python",
   "nbconvert_exporter": "python",
   "pygments_lexer": "ipython3",
   "version": "3.9.13"
  }
 },
 "nbformat": 4,
 "nbformat_minor": 5
}
